{
 "cells": [
  {
   "cell_type": "code",
   "execution_count": 1,
   "metadata": {},
   "outputs": [],
   "source": [
    "import pandas as pd\n",
    "import os\n",
    "import glob\n",
    "from factor_analyzer import FactorAnalyzer\n",
    "from factor_analyzer.factor_analyzer import calculate_kmo\n",
    "from sklearn.preprocessing import StandardScaler\n",
    "import matplotlib.pyplot as plt\n",
    "\n"
   ]
  },
  {
   "cell_type": "code",
   "execution_count": 2,
   "metadata": {},
   "outputs": [],
   "source": [
    "def call_all_csv(filename):\n",
    "       df = pd.read_csv(filename)\n",
    "       df = df.drop([ 'frame','timestamp','confidence', 'face_id', 'success','AU01_c', 'AU02_c', 'AU04_c', 'AU05_c', 'AU06_c',\n",
    "              'AU07_c', 'AU09_c', 'AU10_c', 'AU12_c', 'AU14_c', 'AU15_c', 'AU17_c',\n",
    "              'AU20_c', 'AU23_c', 'AU25_c', 'AU26_c', 'AU28_c', 'AU45_c'], axis = 1)\n",
    "       return df"
   ]
  },
  {
   "cell_type": "code",
   "execution_count": 3,
   "metadata": {},
   "outputs": [
    {
     "name": "stdout",
     "output_type": "stream",
     "text": [
      "<class 'pandas.core.frame.DataFrame'>\n",
      "Index: 20156 entries, 0 to 8708\n",
      "Data columns (total 17 columns):\n",
      " #   Column  Non-Null Count  Dtype  \n",
      "---  ------  --------------  -----  \n",
      " 0   AU01_r  20156 non-null  float64\n",
      " 1   AU02_r  20156 non-null  float64\n",
      " 2   AU04_r  20156 non-null  float64\n",
      " 3   AU05_r  20156 non-null  float64\n",
      " 4   AU06_r  20156 non-null  float64\n",
      " 5   AU07_r  20156 non-null  float64\n",
      " 6   AU09_r  20156 non-null  float64\n",
      " 7   AU10_r  20156 non-null  float64\n",
      " 8   AU12_r  20156 non-null  float64\n",
      " 9   AU14_r  20156 non-null  float64\n",
      " 10  AU15_r  20156 non-null  float64\n",
      " 11  AU17_r  20156 non-null  float64\n",
      " 12  AU20_r  20156 non-null  float64\n",
      " 13  AU23_r  20156 non-null  float64\n",
      " 14  AU25_r  20156 non-null  float64\n",
      " 15  AU26_r  20156 non-null  float64\n",
      " 16  AU45_r  20156 non-null  float64\n",
      "dtypes: float64(17)\n",
      "memory usage: 2.8 MB\n"
     ]
    }
   ],
   "source": [
    "tempat_dimana_file_berada = \"/Users/mdaffarudiyanto/Downloads/data\"\n",
    "filenames = glob.glob(os.path.join(tempat_dimana_file_berada, \"*.csv\"))\n",
    "dataframes = [call_all_csv(df) for df in filenames]\n",
    "\n",
    "df = pd.concat(dataframes)\n",
    "df = df.dropna()\n",
    "df.info()"
   ]
  },
  {
   "cell_type": "code",
   "execution_count": 4,
   "metadata": {},
   "outputs": [
    {
     "name": "stdout",
     "output_type": "stream",
     "text": [
      "0.6403988099946055\n"
     ]
    },
    {
     "name": "stderr",
     "output_type": "stream",
     "text": [
      "/Users/mdaffarudiyanto/Downloads/data/.venv/lib/python3.12/site-packages/factor_analyzer/utils.py:244: UserWarning: The inverse of the variance-covariance matrix was calculated using the Moore-Penrose generalized matrix inversion, due to its determinant being at or very close to zero.\n",
      "  warnings.warn(\n"
     ]
    }
   ],
   "source": [
    "kmo_all,kmo_model=calculate_kmo(df)\n",
    "\n",
    "print(kmo_model)\n"
   ]
  },
  {
   "cell_type": "code",
   "execution_count": 5,
   "metadata": {},
   "outputs": [
    {
     "name": "stdout",
     "output_type": "stream",
     "text": [
      "\n",
      "Eigenvalues:\n",
      "Factor 1: 4.0708\n",
      "Factor 2: 2.3437\n",
      "Factor 3: 1.9812\n",
      "Factor 4: 1.3825\n",
      "Factor 5: 1.3267\n",
      "Factor 6: 0.9747\n",
      "Factor 7: 0.9430\n",
      "Factor 8: 0.7625\n",
      "Factor 9: 0.6905\n",
      "Factor 10: 0.5675\n",
      "Factor 11: 0.4719\n",
      "Factor 12: 0.3744\n",
      "Factor 13: 0.3379\n",
      "Factor 14: 0.2964\n",
      "Factor 15: 0.2264\n",
      "Factor 16: 0.1561\n",
      "Factor 17: 0.0937\n",
      "\n",
      "Factor Loadings:\n",
      "        Factor 1  Factor 2  Factor 3  Factor 4  Factor 5  Factor 6  Factor 7  \\\n",
      "AU01_r -0.067945  0.841552 -0.184945 -0.157081 -0.006315 -0.027361  0.218227   \n",
      "AU02_r  0.025640  0.898817 -0.231477 -0.058267  0.065204  0.006425  0.076225   \n",
      "AU04_r  0.369990 -0.108537 -0.184261  0.629493  0.115317 -0.212538 -0.121580   \n",
      "AU05_r  0.015626  0.643820  0.317454 -0.056191  0.155473 -0.110035 -0.423463   \n",
      "AU06_r  0.797011 -0.335537  0.088092 -0.244301  0.137684  0.051811 -0.012290   \n",
      "AU07_r  0.677496 -0.071188 -0.252372  0.284938 -0.099618  0.269151 -0.158478   \n",
      "AU09_r  0.325390 -0.004198  0.368975  0.117848  0.712842 -0.009301 -0.328198   \n",
      "AU10_r  0.737584  0.195583 -0.015249  0.133573  0.048380 -0.282363  0.082362   \n",
      "AU12_r  0.743392  0.052416  0.096296 -0.411235  0.060030 -0.330516  0.136717   \n",
      "AU14_r  0.417003 -0.228122  0.404966 -0.358793  0.020111 -0.157561  0.318082   \n",
      "AU15_r  0.110196  0.313809  0.643674  0.014369  0.097411  0.434893 -0.017918   \n",
      "AU17_r  0.142571  0.040066  0.712093  0.261313 -0.346266  0.200236  0.197354   \n",
      "AU20_r -0.096782  0.092146  0.157487  0.546515  0.392281 -0.176587  0.562816   \n",
      "AU23_r  0.568833  0.175474  0.368457  0.094296 -0.505992 -0.115091 -0.131320   \n",
      "AU25_r  0.712760  0.020643 -0.402683 -0.125856  0.054923  0.049556 -0.038879   \n",
      "AU26_r  0.633076  0.225130 -0.247122  0.281782 -0.334241  0.100557  0.030087   \n",
      "AU45_r  0.428430  0.011037 -0.269018 -0.115190  0.295934  0.584257  0.245257   \n",
      "\n",
      "        Factor 8  Factor 9  Factor 10  Factor 11  Factor 12  Factor 13  \\\n",
      "AU01_r  0.226522  0.110714  -0.126017   0.094320   0.143612  -0.040643   \n",
      "AU02_r  0.081549  0.019667  -0.008525   0.154201   0.080734   0.039739   \n",
      "AU04_r  0.490203  0.182905   0.092290  -0.106601   0.056554   0.128542   \n",
      "AU05_r -0.288498  0.152894   0.250721   0.025719  -0.221906   0.087479   \n",
      "AU06_r -0.057100  0.090017  -0.131532   0.105879   0.122139  -0.101158   \n",
      "AU07_r  0.051728  0.024979  -0.127704   0.443272  -0.215063  -0.115020   \n",
      "AU09_r -0.029817  0.006671  -0.027068   0.055372   0.251590  -0.006800   \n",
      "AU10_r  0.080813 -0.439761   0.010173  -0.072758  -0.238777   0.085351   \n",
      "AU12_r  0.065685 -0.238765  -0.026758  -0.027194   0.050904  -0.027676   \n",
      "AU14_r  0.164023  0.496472   0.109871   0.074038  -0.162174   0.095848   \n",
      "AU15_r  0.233553 -0.006342  -0.316585  -0.281000  -0.165596  -0.098727   \n",
      "AU17_r -0.089482 -0.157734   0.001106   0.191994   0.165442   0.321273   \n",
      "AU20_r -0.334091  0.056215  -0.023462   0.025137  -0.053218  -0.172217   \n",
      "AU23_r -0.019370 -0.010457   0.245811  -0.045817   0.148872  -0.303419   \n",
      "AU25_r -0.325525  0.080626  -0.228395  -0.131703   0.036936   0.186343   \n",
      "AU26_r -0.230158  0.261556  -0.038465  -0.250736   0.055760   0.017221   \n",
      "AU45_r  0.054160 -0.110942   0.467050  -0.078245   0.013602   0.006976   \n",
      "\n",
      "        Factor 14  Factor 15  Factor 16  Factor 17  \n",
      "AU01_r   0.094354  -0.000477   0.244803   0.020708  \n",
      "AU02_r  -0.110409   0.037462  -0.255859  -0.079674  \n",
      "AU04_r   0.178444  -0.003089  -0.049307   0.014922  \n",
      "AU05_r   0.177022  -0.082000   0.023518   0.008826  \n",
      "AU06_r   0.218019  -0.130489  -0.010852  -0.182348  \n",
      "AU07_r  -0.038760  -0.007025   0.010530   0.079540  \n",
      "AU09_r  -0.233825   0.031255   0.061319   0.025331  \n",
      "AU10_r  -0.122906   0.045083   0.101625  -0.117076  \n",
      "AU12_r   0.057256  -0.164689  -0.093065   0.171754  \n",
      "AU14_r  -0.147047   0.082534   0.006999  -0.004594  \n",
      "AU15_r   0.042853   0.017882  -0.051020   0.014634  \n",
      "AU17_r   0.052185  -0.023515   0.008094   0.009211  \n",
      "AU20_r   0.084180   0.016106  -0.026917   0.017671  \n",
      "AU23_r   0.013438   0.192389  -0.006403   0.000376  \n",
      "AU25_r   0.114319   0.270259  -0.009906   0.047933  \n",
      "AU26_r  -0.205545  -0.230318   0.029880  -0.001173  \n",
      "AU45_r   0.036008   0.003416   0.017716   0.015711  \n",
      "\n",
      "Variables significantly loaded on Factor 1 (Eigenvalue: 4.07):\n",
      "AU04_r    0.369990\n",
      "AU06_r    0.797011\n",
      "AU07_r    0.677496\n",
      "AU09_r    0.325390\n",
      "AU10_r    0.737584\n",
      "AU12_r    0.743392\n",
      "AU14_r    0.417003\n",
      "AU23_r    0.568833\n",
      "AU25_r    0.712760\n",
      "AU26_r    0.633076\n",
      "AU45_r    0.428430\n",
      "Name: Factor 1, dtype: float64\n",
      "\n",
      "Variables significantly loaded on Factor 2 (Eigenvalue: 2.34):\n",
      "AU01_r    0.841552\n",
      "AU02_r    0.898817\n",
      "AU05_r    0.643820\n",
      "AU06_r   -0.335537\n",
      "AU15_r    0.313809\n",
      "Name: Factor 2, dtype: float64\n",
      "\n",
      "Variables significantly loaded on Factor 3 (Eigenvalue: 1.98):\n",
      "AU05_r    0.317454\n",
      "AU09_r    0.368975\n",
      "AU14_r    0.404966\n",
      "AU15_r    0.643674\n",
      "AU17_r    0.712093\n",
      "AU23_r    0.368457\n",
      "AU25_r   -0.402683\n",
      "Name: Factor 3, dtype: float64\n",
      "\n",
      "Variables significantly loaded on Factor 4 (Eigenvalue: 1.38):\n",
      "AU04_r    0.629493\n",
      "AU12_r   -0.411235\n",
      "AU14_r   -0.358793\n",
      "AU20_r    0.546515\n",
      "Name: Factor 4, dtype: float64\n",
      "\n",
      "Variables significantly loaded on Factor 5 (Eigenvalue: 1.33):\n",
      "AU09_r    0.712842\n",
      "AU17_r   -0.346266\n",
      "AU20_r    0.392281\n",
      "AU23_r   -0.505992\n",
      "AU26_r   -0.334241\n",
      "Name: Factor 5, dtype: float64\n",
      "\n",
      "Variables significantly loaded on Factor 6 (Eigenvalue: 0.97):\n",
      "AU12_r   -0.330516\n",
      "AU15_r    0.434893\n",
      "AU45_r    0.584257\n",
      "Name: Factor 6, dtype: float64\n",
      "\n",
      "Variables significantly loaded on Factor 7 (Eigenvalue: 0.94):\n",
      "AU05_r   -0.423463\n",
      "AU09_r   -0.328198\n",
      "AU14_r    0.318082\n",
      "AU20_r    0.562816\n",
      "Name: Factor 7, dtype: float64\n",
      "\n",
      "Variables significantly loaded on Factor 8 (Eigenvalue: 0.76):\n",
      "AU04_r    0.490203\n",
      "AU20_r   -0.334091\n",
      "AU25_r   -0.325525\n",
      "Name: Factor 8, dtype: float64\n",
      "\n",
      "Variables significantly loaded on Factor 9 (Eigenvalue: 0.69):\n",
      "AU10_r   -0.439761\n",
      "AU14_r    0.496472\n",
      "Name: Factor 9, dtype: float64\n",
      "\n",
      "Variables significantly loaded on Factor 10 (Eigenvalue: 0.57):\n",
      "AU15_r   -0.316585\n",
      "AU45_r    0.467050\n",
      "Name: Factor 10, dtype: float64\n",
      "\n",
      "Variables significantly loaded on Factor 11 (Eigenvalue: 0.47):\n",
      "AU07_r    0.443272\n",
      "Name: Factor 11, dtype: float64\n",
      "\n",
      "Variables significantly loaded on Factor 12 (Eigenvalue: 0.37):\n",
      "Series([], Name: Factor 12, dtype: float64)\n",
      "\n",
      "Variables significantly loaded on Factor 13 (Eigenvalue: 0.34):\n",
      "AU17_r    0.321273\n",
      "AU23_r   -0.303419\n",
      "Name: Factor 13, dtype: float64\n",
      "\n",
      "Variables significantly loaded on Factor 14 (Eigenvalue: 0.30):\n",
      "Series([], Name: Factor 14, dtype: float64)\n",
      "\n",
      "Variables significantly loaded on Factor 15 (Eigenvalue: 0.23):\n",
      "Series([], Name: Factor 15, dtype: float64)\n",
      "\n",
      "Variables significantly loaded on Factor 16 (Eigenvalue: 0.16):\n",
      "Series([], Name: Factor 16, dtype: float64)\n",
      "\n",
      "Variables significantly loaded on Factor 17 (Eigenvalue: 0.09):\n",
      "Series([], Name: Factor 17, dtype: float64)\n"
     ]
    },
    {
     "data": {
      "image/png": "[encoded data removed]",
      "text/plain": [
       "<Figure size 1000x600 with 1 Axes>"
      ]
     },
     "metadata": {},
     "output_type": "display_data"
    }
   ],
   "source": [
    "# Standardize the data\n",
    "scaler = StandardScaler()\n",
    "scaled_data = scaler.fit_transform(df)\n",
    "\n",
    "# Perform factor analysis\n",
    "fa = FactorAnalyzer(rotation=None, method='principal', n_factors=df.shape[1])\n",
    "fa.fit(scaled_data)\n",
    "\n",
    "# Get eigenvalues and eigenvectors (factor loadings)\n",
    "eigenvalues, _ = fa.get_eigenvalues()\n",
    "print(\"\\nEigenvalues:\")\n",
    "for i, eigenvalue in enumerate(eigenvalues):\n",
    "    print(f\"Factor {i+1}: {eigenvalue:.4f}\")\n",
    "\n",
    "# Get factor loadings\n",
    "loadings = fa.loadings_\n",
    "\n",
    "# Create a DataFrame for loadings\n",
    "factor_names = [f\"Factor {i+1}\" for i in range(len(eigenvalues))]\n",
    "loadings_df = pd.DataFrame(loadings, index=df.columns, columns=factor_names)\n",
    "\n",
    "# Print factor loadings\n",
    "print(\"\\nFactor Loadings:\")\n",
    "print(loadings_df)\n",
    "\n",
    "# Optionally, set a threshold to identify significant loadings\n",
    "threshold = 0.3\n",
    "\n",
    "# Display variables that contribute significantly to each factor\n",
    "for i in range(len(eigenvalues)):\n",
    "    print(f\"\\nVariables significantly loaded on Factor {i+1} (Eigenvalue: {eigenvalues[i]:.2f}):\")\n",
    "    factor_loadings = loadings_df[f\"Factor {i+1}\"]\n",
    "    significant_loadings = factor_loadings[abs(factor_loadings) > threshold]\n",
    "    print(significant_loadings)\n",
    "\n",
    "# Plotting the Scree Plot\n",
    "plt.figure(figsize=(10, 6))\n",
    "plt.plot(range(1, len(eigenvalues)+1), eigenvalues, 'o-', markersize=8)\n",
    "plt.title('Scree Plot')\n",
    "plt.xlabel('Factor')\n",
    "plt.ylabel('Eigenvalue')\n",
    "plt.grid()\n",
    "plt.show()"
   ]
  },
  {
   "cell_type": "code",
   "execution_count": 7,
   "metadata": {},
   "outputs": [
    {
     "name": "stdout",
     "output_type": "stream",
     "text": [
      "N Factor:  5\n"
     ]
    }
   ],
   "source": [
    "n_factor = sum(eigenvalues > 1)\n",
    "print(\"N Factor: \", n_factor)"
   ]
  },
  {
   "cell_type": "code",
   "execution_count": 8,
   "metadata": {},
   "outputs": [
    {
     "name": "stdout",
     "output_type": "stream",
     "text": [
      "Factor Loadings:           Factor1   Factor2   Factor3   Factor4   Factor5\n",
      "AU01_r  0.017007  0.862811 -0.065865 -0.096958 -0.115214\n",
      "AU02_r  0.142949  0.911566 -0.096377 -0.093998 -0.015691\n",
      "AU04_r  0.633457 -0.194040 -0.045504 -0.139001  0.363144\n",
      "AU05_r -0.120560  0.628769  0.281757  0.066946  0.221587\n",
      "AU06_r  0.340249 -0.272977  0.020972  0.800121  0.057373\n",
      "AU07_r  0.747651 -0.109456 -0.023684  0.216751  0.019226\n",
      "AU09_r -0.013581  0.017185  0.046344  0.408317  0.771181\n",
      "AU10_r  0.607334  0.174748  0.124259  0.405720  0.152502\n",
      "AU12_r  0.262631  0.127349  0.081388  0.799995 -0.074577\n",
      "AU14_r -0.077608 -0.184836  0.280986  0.632237 -0.014175\n",
      "AU15_r -0.159272  0.263316  0.559415  0.182362  0.306148\n",
      "AU17_r  0.045498 -0.097814  0.835817 -0.016254  0.081860\n",
      "AU20_r  0.079078  0.016013  0.060398 -0.292155  0.632228\n",
      "AU23_r  0.442063  0.077170  0.668552  0.253345 -0.206208\n",
      "AU25_r  0.585584  0.082322 -0.285477  0.498513 -0.098817\n",
      "AU26_r  0.792587  0.156310  0.127684  0.090079 -0.163132\n",
      "AU45_r  0.281162  0.083446 -0.324518  0.387017  0.125621\n"
     ]
    }
   ],
   "source": [
    "fa = FactorAnalyzer(n_factors=n_factor, rotation=\"varimax\", method=\"principal\")\n",
    "fa.fit(scaled_data)\n",
    "\n",
    "factor_loadings = pd.DataFrame(fa.loadings_, index=df.columns, columns = [f\"Factor{i+1}\" for i in range(n_factor)])\n",
    "\n",
    "print(\"Factor Loadings: \", factor_loadings)"
   ]
  },
  {
   "cell_type": "code",
   "execution_count": 9,
   "metadata": {},
   "outputs": [
    {
     "name": "stdout",
     "output_type": "stream",
     "text": [
      "Assignments:\n",
      "\n",
      "AU01_r    Factor2\n",
      "AU02_r    Factor2\n",
      "AU04_r    Factor1\n",
      "AU05_r    Factor2\n",
      "AU06_r    Factor4\n",
      "AU07_r    Factor1\n",
      "AU09_r    Factor5\n",
      "AU10_r    Factor1\n",
      "AU12_r    Factor4\n",
      "AU14_r    Factor4\n",
      "AU15_r    Factor3\n",
      "AU17_r    Factor3\n",
      "AU20_r    Factor5\n",
      "AU23_r    Factor3\n",
      "AU25_r    Factor1\n",
      "AU26_r    Factor1\n",
      "AU45_r    Factor4\n",
      "dtype: object\n"
     ]
    }
   ],
   "source": [
    "assignments = factor_loadings.idxmax(axis=1)\n",
    "print(\"Assignments:\\n\")\n",
    "print(assignments)"
   ]
  },
  {
   "cell_type": "code",
   "execution_count": 10,
   "metadata": {},
   "outputs": [
    {
     "name": "stdout",
     "output_type": "stream",
     "text": [
      "\n",
      "Grouped Factors:\n",
      "{'Factor2': ['AU01_r', 'AU02_r', 'AU05_r'], 'Factor1': ['AU04_r', 'AU07_r', 'AU10_r', 'AU25_r', 'AU26_r'], 'Factor4': ['AU06_r', 'AU12_r', 'AU14_r', 'AU45_r'], 'Factor5': ['AU09_r', 'AU20_r'], 'Factor3': ['AU15_r', 'AU17_r', 'AU23_r']}\n"
     ]
    }
   ],
   "source": [
    "grouped_factors = {\n",
    "    factor: list(assignments[assignments == factor].index)\n",
    "    for factor in assignments.unique()\n",
    "}\n",
    "print(\"\\nGrouped Factors:\")\n",
    "print(grouped_factors)"
   ]
  }
 ],
 "metadata": {
  "kernelspec": {
   "display_name": ".venv",
   "language": "python",
   "name": "python3"
  },
  "language_info": {
   "codemirror_mode": {
    "name": "ipython",
    "version": 3
   },
   "file_extension": ".py",
   "mimetype": "text/x-python",
   "name": "python",
   "nbconvert_exporter": "python",
   "pygments_lexer": "ipython3",
   "version": "3.12.3"
  }
 },
 "nbformat": 4,
 "nbformat_minor": 2
}
