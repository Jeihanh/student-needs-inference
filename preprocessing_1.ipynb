{
 "cells": [
  {
   "cell_type": "code",
   "execution_count": 1,
   "metadata": {},
   "outputs": [],
   "source": [
    "import pandas as pd\n",
    "import os\n",
    "import glob\n",
    "from factor_analyzer import FactorAnalyzer\n",
    "from factor_analyzer.factor_analyzer import calculate_kmo\n",
    "from sklearn.preprocessing import StandardScaler\n",
    "import matplotlib.pyplot as plt\n",
    "import json\n"
   ]
  },
  {
   "cell_type": "code",
   "execution_count": 2,
   "metadata": {},
   "outputs": [],
   "source": [
    "def preprocess(filename):\n",
    "    df = pd.read_csv(f\"{filename}.csv\")\n",
    "    df = df.drop(['confidence', 'face_id', 'success', 'AU01_c', 'AU02_c', 'AU04_c', 'AU05_c', 'AU06_c',\n",
    "                  'AU07_c', 'AU09_c', 'AU10_c', 'AU12_c', 'AU14_c', 'AU15_c', 'AU17_c',\n",
    "                  'AU20_c', 'AU23_c', 'AU25_c', 'AU26_c', 'AU28_c', 'AU45_c'], axis=1)\n",
    "    df['timestamp'] = df['timestamp'] * 1000 \n",
    "    \n",
    "    # print(len(df.index))\n",
    "    # print(len(df['timestamp']))\n",
    "    \n",
    "    timestamps = []\n",
    "    responses = []\n",
    "    with open(f\"{filename}.json\", 'r') as file:\n",
    "        data = json.load(file)\n",
    "        for i in data:\n",
    "            if i[\"type\"] == \"needsSurvey\":\n",
    "                time = i[\"data\"][\"elapsedTime\"]\n",
    "                response = i[\"data\"][\"response\"]\n",
    "                timestamps.append(time)\n",
    "                responses.append(response)\n",
    "        \n",
    "        # print(len(timestamps))\n",
    "        labels = []\n",
    "        counter_column = []\n",
    "        curr_label = 0\n",
    "        for t in df['timestamp']:\n",
    "            if t < timestamps[curr_label]:\n",
    "                labels.append(responses[curr_label])\n",
    "                counter_column.append(curr_label)\n",
    "            else:\n",
    "                curr_label += 1\n",
    "                labels.append(responses[curr_label])\n",
    "                counter_column.append(curr_label)\n",
    "        print(len(labels))\n",
    "        df['label'] = labels\n",
    "        df['counter'] = counter_column\n",
    "    return df\n"
   ]
  },
  {
   "cell_type": "code",
   "execution_count": 3,
   "metadata": {},
   "outputs": [
    {
     "name": "stdout",
     "output_type": "stream",
     "text": [
      "1524\n",
      "5849\n",
      "1730\n",
      "8709\n",
      "2348\n"
     ]
    }
   ],
   "source": [
    "datalist = [\"daffa_test_1\", \"jeihan_test_1\", \"theo_test_1\", \"toby_test_1\", \"yuuki_test_2\"]\n",
    "\n",
    "for i in datalist:\n",
    "    \n",
    "    df = preprocess(f\"Raw Files/{i}\")\n",
    "    \n",
    "    df = df.dropna()\n",
    "    \n",
    "    reduced_df = df.groupby('counter').tail(300)\n",
    "    \n",
    "    reduced_df.to_csv(f\"Preprocessed/{i}_preprocessed.csv\")\n",
    "    \n",
    "    "
   ]
  },
  {
   "cell_type": "code",
   "execution_count": null,
   "metadata": {},
   "outputs": [],
   "source": []
  }
 ],
 "metadata": {
  "kernelspec": {
   "display_name": ".venv",
   "language": "python",
   "name": "python3"
  },
  "language_info": {
   "codemirror_mode": {
    "name": "ipython",
    "version": 3
   },
   "file_extension": ".py",
   "mimetype": "text/x-python",
   "name": "python",
   "nbconvert_exporter": "python",
   "pygments_lexer": "ipython3",
   "version": "3.12.3"
  }
 },
 "nbformat": 4,
 "nbformat_minor": 2
}
